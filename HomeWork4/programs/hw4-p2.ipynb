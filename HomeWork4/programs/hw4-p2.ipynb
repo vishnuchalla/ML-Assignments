{
 "cells": [
  {
   "cell_type": "markdown",
   "metadata": {},
   "source": [
    "# Instructions\n",
    "\n",
    "1. Add your name and HW Group Number below.\n",
    "2. Complete each question. Make sure you fill in any place that says `YOUR CODE HERE` or \"YOUR ANSWER HERE\", and delete and `throw NotImplementedError()` lines.\n",
    "3. Where applicable, run the test cases *below* each question to check your work. **Note**: In addition to the test cases you can see, the instructor may run additional test cases, including using *other datasets* to validate you code.\n",
    "4. Before you turn this problem in, make sure everything runs as expected. First, **restart the kernel** (in the menubar, select Kernel$\\rightarrow$Restart) and then **run all cells** (in the menubar, select Cell$\\rightarrow$Run All). You can also use the **Validate** button to run all test cases.\n",
    "5. Turn in your homework by going to the main screen in JupyterHub, clicking the Assignments menu, and submitting.\n",
    "\n"
   ]
  },
  {
   "cell_type": "code",
   "execution_count": 1,
   "metadata": {},
   "outputs": [
    {
     "data": {
      "text/plain": [
       "'\\nName: Vishnu Challa\\nHW Group Number: 40\\n'"
      ]
     },
     "execution_count": 1,
     "metadata": {},
     "output_type": "execute_result"
    }
   ],
   "source": [
    "\"\"\"\n",
    "Name: Vishnu Challa\n",
    "HW Group Number: 40\n",
    "\"\"\""
   ]
  },
  {
   "cell_type": "markdown",
   "metadata": {},
   "source": [
    "# HW4-P2: SVMs and Hyperparameter Tuning\n",
    "\n",
    "In this part of HW4, you'll be working with Support Vector Machines."
   ]
  },
  {
   "cell_type": "markdown",
   "metadata": {},
   "source": [
    "## 0 Imports"
   ]
  },
  {
   "cell_type": "code",
   "execution_count": 2,
   "metadata": {
    "deletable": false,
    "editable": false,
    "nbgrader": {
     "cell_type": "code",
     "checksum": "dccd24f14b967bb5023da9f48d96b971",
     "grade": false,
     "grade_id": "cell-e4486c889788a46c",
     "locked": true,
     "schema_version": 3,
     "solution": false,
     "task": false
    }
   },
   "outputs": [],
   "source": [
    "import numpy as np\n",
    "import matplotlib.pyplot as plt\n",
    "import pandas as pd\n",
    "random_state = 42"
   ]
  },
  {
   "cell_type": "code",
   "execution_count": 3,
   "metadata": {
    "deletable": false,
    "editable": false,
    "nbgrader": {
     "cell_type": "code",
     "checksum": "74151520bcc34c4f2bab4a2e1e42ac13",
     "grade": false,
     "grade_id": "cell-6453145042d82e5f",
     "locked": true,
     "schema_version": 3,
     "solution": false,
     "task": false
    }
   },
   "outputs": [],
   "source": [
    "from sklearn.model_selection import train_test_split"
   ]
  },
  {
   "cell_type": "markdown",
   "metadata": {},
   "source": [
    "## 1 Loading the Data\n",
    "\n",
    "First, load the data `svm_data_2020.csv`. "
   ]
  },
  {
   "cell_type": "code",
   "execution_count": 4,
   "metadata": {
    "deletable": false,
    "editable": false,
    "nbgrader": {
     "cell_type": "code",
     "checksum": "e5203e8889774a0fa7faca8dd737ed3a",
     "grade": false,
     "grade_id": "cell-5588638e798e196b",
     "locked": true,
     "schema_version": 3,
     "solution": false,
     "task": false
    }
   },
   "outputs": [],
   "source": [
    "df = pd.read_csv('/etc/data/svm_data_2020.csv')"
   ]
  },
  {
   "cell_type": "code",
   "execution_count": 5,
   "metadata": {
    "deletable": false,
    "editable": false,
    "nbgrader": {
     "cell_type": "code",
     "checksum": "3d08873854cf37ec1fe3184ee28ccdbb",
     "grade": false,
     "grade_id": "cell-341a94c297342768",
     "locked": true,
     "schema_version": 3,
     "solution": false,
     "task": false
    }
   },
   "outputs": [
    {
     "data": {
      "text/plain": [
       "0    83\n",
       "1    73\n",
       "Name: Class, dtype: int64"
      ]
     },
     "execution_count": 5,
     "metadata": {},
     "output_type": "execute_result"
    }
   ],
   "source": [
    "df[\"Class\"].value_counts()"
   ]
  },
  {
   "cell_type": "markdown",
   "metadata": {},
   "source": [
    "## 2 Splitting the Data\n",
    "\n",
    "Now, split the data into a training and test set. 75% of the data should be in the training set, and 25% should be in the testing set.\n",
    "\n",
    "Report the number of positive and negative samples in both training and testing data."
   ]
  },
  {
   "cell_type": "code",
   "execution_count": 6,
   "metadata": {
    "deletable": false,
    "nbgrader": {
     "cell_type": "code",
     "checksum": "4342ad40e41ebb5c80e1b2749fdbe4f6",
     "grade": false,
     "grade_id": "data_separation",
     "locked": false,
     "schema_version": 3,
     "solution": true,
     "task": false
    }
   },
   "outputs": [],
   "source": [
    "# Separate data feature (X) and data label (Y)\n",
    "\n",
    "X = Y = None\n",
    "X = df.drop('Class',axis='columns')\n",
    "Y = df['Class']"
   ]
  },
  {
   "cell_type": "code",
   "execution_count": 7,
   "metadata": {
    "deletable": false,
    "nbgrader": {
     "cell_type": "code",
     "checksum": "40b30378da4298e0652f8d8d89f81fb1",
     "grade": false,
     "grade_id": "data_separation2",
     "locked": false,
     "schema_version": 3,
     "solution": true,
     "task": false
    }
   },
   "outputs": [],
   "source": [
    "#Split dataset into training and testing\n",
    "\n",
    "X_train = X_test = y_train = y_test = None\n",
    "X_train, X_test, y_train, y_test = train_test_split(X,Y,test_size=0.25,random_state=random_state)"
   ]
  },
  {
   "cell_type": "code",
   "execution_count": 8,
   "metadata": {
    "deletable": false,
    "editable": false,
    "nbgrader": {
     "cell_type": "code",
     "checksum": "6a9c2679c00e84fe56bb120ac7661c50",
     "grade": true,
     "grade_id": "data_separation_test",
     "locked": true,
     "points": 2,
     "schema_version": 3,
     "solution": false,
     "task": false
    }
   },
   "outputs": [],
   "source": [
    "assert X.shape == (156, 60)\n",
    "assert Y.shape == (156,)\n",
    "assert X_train.shape == (117, 60)\n",
    "assert X_test.shape == (39, 60)\n",
    "assert y_train.shape == (117,)\n",
    "assert y_test.shape == (39,)"
   ]
  },
  {
   "cell_type": "code",
   "execution_count": 9,
   "metadata": {
    "deletable": false,
    "editable": false,
    "nbgrader": {
     "cell_type": "code",
     "checksum": "56c420a896d4012ea643f5a68d5604d7",
     "grade": false,
     "grade_id": "cell-c3af46c6db7f1c32",
     "locked": true,
     "schema_version": 3,
     "solution": false,
     "task": false
    }
   },
   "outputs": [
    {
     "data": {
      "text/plain": [
       "0    65\n",
       "1    52\n",
       "Name: Class, dtype: int64"
      ]
     },
     "execution_count": 9,
     "metadata": {},
     "output_type": "execute_result"
    }
   ],
   "source": [
    "y_train.value_counts()"
   ]
  },
  {
   "cell_type": "code",
   "execution_count": 10,
   "metadata": {
    "deletable": false,
    "editable": false,
    "nbgrader": {
     "cell_type": "code",
     "checksum": "13ac86b2542e87f7531c6093539fd69d",
     "grade": false,
     "grade_id": "cell-cc9e1d5afcded38b",
     "locked": true,
     "schema_version": 3,
     "solution": false,
     "task": false
    }
   },
   "outputs": [
    {
     "data": {
      "text/plain": [
       "1    21\n",
       "0    18\n",
       "Name: Class, dtype: int64"
      ]
     },
     "execution_count": 10,
     "metadata": {},
     "output_type": "execute_result"
    }
   ],
   "source": [
    "y_test.value_counts()"
   ]
  },
  {
   "cell_type": "markdown",
   "metadata": {},
   "source": [
    "## 3 Training the Model\n",
    "\n",
    "Now, you will use sklearns [support vector classifier](https://scikit-learn.org/stable/modules/generated/sklearn.svm.SVC.html) to fit a model to this data."
   ]
  },
  {
   "cell_type": "code",
   "execution_count": 11,
   "metadata": {
    "deletable": false,
    "editable": false,
    "nbgrader": {
     "cell_type": "code",
     "checksum": "95555beccd5d56bc948cf322fa4c96f3",
     "grade": false,
     "grade_id": "cell-a80f2b71fa732090",
     "locked": true,
     "schema_version": 3,
     "solution": false,
     "task": false
    }
   },
   "outputs": [],
   "source": [
    "from sklearn.svm import SVC\n",
    "from sklearn.model_selection import GridSearchCV\n",
    "from sklearn.metrics import classification_report"
   ]
  },
  {
   "cell_type": "markdown",
   "metadata": {},
   "source": [
    "### 3.1 Fitting the Model and Getting the Support Vectors\n",
    "\n",
    "Fit an [SVM](https://scikit-learn.org/stable/modules/generated/sklearn.svm.SVC.html) model to your training data using the default hyperparameters (for now!), and report back the number of support vectors. Use `clf.support_vectors_`, which returns a list of the actual support vectors. Below is an example of support vector classifier training and its support vectors."
   ]
  },
  {
   "cell_type": "code",
   "execution_count": 12,
   "metadata": {
    "deletable": false,
    "nbgrader": {
     "cell_type": "code",
     "checksum": "c23424e97270d23e9c723704ecc3f78a",
     "grade": false,
     "grade_id": "support_vectors",
     "locked": false,
     "schema_version": 3,
     "solution": true,
     "task": false
    }
   },
   "outputs": [
    {
     "data": {
      "text/plain": [
       "array([[0.037, 0.059, 0.063, ..., 0.011, 0.01 , 0.013],\n",
       "       [0.053, 0.088, 0.2  , ..., 0.015, 0.013, 0.006],\n",
       "       [0.097, 0.082, 0.063, ..., 0.02 , 0.021, 0.004],\n",
       "       ...,\n",
       "       [0.02 , 0.01 , 0.032, ..., 0.005, 0.007, 0.005],\n",
       "       [0.02 , 0.003, 0.014, ..., 0.002, 0.006, 0.004],\n",
       "       [0.035, 0.012, 0.019, ..., 0.002, 0.007, 0.007]])"
      ]
     },
     "execution_count": 12,
     "metadata": {},
     "output_type": "execute_result"
    }
   ],
   "source": [
    "num_support_vectors = None\n",
    "svc = SVC().fit(X_train, y_train)\n",
    "num_support_vectors = svc.support_vectors_\n",
    "# Show the number of support vectors\n",
    "num_support_vectors"
   ]
  },
  {
   "cell_type": "code",
   "execution_count": 13,
   "metadata": {
    "deletable": false,
    "editable": false,
    "nbgrader": {
     "cell_type": "code",
     "checksum": "26cabbedf4457577e781ed9848aef642",
     "grade": true,
     "grade_id": "support_vectors-hidden",
     "locked": true,
     "points": 1,
     "schema_version": 3,
     "solution": false,
     "task": false
    }
   },
   "outputs": [],
   "source": [
    "# Hidden tests"
   ]
  },
  {
   "cell_type": "markdown",
   "metadata": {},
   "source": [
    "### 3.2 C hyperparameter vs Support Vector Count"
   ]
  },
  {
   "cell_type": "markdown",
   "metadata": {},
   "source": [
    "*C* is the regularization hyperparameter in SVMs, and in this problem you'll be looking at how changing *C* affects the number of support vectors.\n",
    "\n",
    "Implement the function `plot_support_vectors` below, which will plot a line chart of the number of support vectors vs. the value of *C*.\n",
    "\n",
    "**Before implementing the function, predict the answer the following questions**\n",
    "1. As C increases, how will the number of support vectors change?\n",
    "As C increases, the support vectors will be decreasing. And gradually the margin will become a hard margin maximizing the cost function.\n",
    "2. Why?\n",
    "As C goes on increasing, then we will have infinite cost for slack penalty which means even for a slightest bit of slack we will have a huge error value which is not desirable. So the points that lie exactly on the hard margin decision boundary are only considered as support vectors which in general will be less in number."
   ]
  },
  {
   "cell_type": "code",
   "execution_count": 14,
   "metadata": {
    "deletable": false,
    "nbgrader": {
     "cell_type": "code",
     "checksum": "d6ca0e12634fcb52e9c6aac2a8efb0c1",
     "grade": false,
     "grade_id": "plot_support_vector",
     "locked": false,
     "schema_version": 3,
     "solution": true,
     "task": false
    }
   },
   "outputs": [],
   "source": [
    "\"\"\"\n",
    "Input:\n",
    "    params: A list of floats, representing the values of C to try\n",
    "    \n",
    "Output:\n",
    "    None\n",
    "    Print a line chart of the number of support vectors vs. C\n",
    "\"\"\"\n",
    "\n",
    "def plot_support_vectors(params):\n",
    "    svs = []\n",
    "    \n",
    "    for each in params:\n",
    "        svc = SVC(C=each).fit(X_train, y_train)\n",
    "        svs.append(len(svc.support_vectors_))\n",
    "    \n",
    "    plt.plot(params,svs,'bo--')\n",
    "    plt.xlabel('C')\n",
    "    plt.ylabel('Number of Support Vectors')\n",
    "    plt.title('C and Its Effect on Number of Support Vectors')\n",
    "    plt.show()\n",
    "    return svs"
   ]
  },
  {
   "cell_type": "code",
   "execution_count": 15,
   "metadata": {
    "deletable": false,
    "editable": false,
    "nbgrader": {
     "cell_type": "code",
     "checksum": "5469b1f31a253908864d42abc91c1494",
     "grade": true,
     "grade_id": "plot_support_vector_test",
     "locked": true,
     "points": 2,
     "schema_version": 3,
     "solution": false,
     "task": false
    }
   },
   "outputs": [
    {
     "data": {
      "image/png": "[encoded data removed]",
      "text/plain": [
       "<Figure size 432x288 with 1 Axes>"
      ]
     },
     "metadata": {
      "needs_background": "light"
     },
     "output_type": "display_data"
    }
   ],
   "source": [
    "C = [0.1,0.2,0.3,0.5,1,2,3,5,10,20,40,80]\n",
    "svs = plot_support_vectors(C)\n",
    "\n",
    "# Hidden tests"
   ]
  },
  {
   "cell_type": "markdown",
   "metadata": {},
   "source": [
    "**Now that you have a plot, check your earlier answer.**"
   ]
  },
  {
   "cell_type": "markdown",
   "metadata": {},
   "source": [
    "## 4) Hyperparam Tuning\n",
    "\n",
    "Compare  the  performance  of  four  different  kernel  functions:  linear (`linear`), polynomial (`poly`),  radial basis function (`rbf`), and `sigmoid`. Not only will you be changing the kernel function, you'll also be optimizing for the other hyperparams, including hyperpareters that are specific to a given kernel.\n",
    "\n",
    "For each type of kernel functions, train your SVM classifiers using the training data and evaluate the resulting SVM classifer using testing data using accuracy, precision, recall and f-measure of the corresponding classification results.\n"
   ]
  },
  {
   "cell_type": "markdown",
   "metadata": {},
   "source": [
    "### 4.1 Basic Hyperparameters\n",
    "\n",
    "Write a function called `best_hyperparams` that when given a dictionary of params, runs a `GridSearchCV` on an SVC model using the training and test data.\n",
    "\n",
    "Use a `cv` of 5.\n",
    "\n",
    "This function should return the optimized classifier `clf`, from a grid search (this classifier will include a list of it's best parameters in the property `best_params_`).\n",
    "\n",
    "You've used GridSearchCV in the last homework. As a reminder, see the documentation for [GridSearchCV](https://scikit-learn.org/stable/modules/generated/sklearn.model_selection.GridSearchCV.html) for more info.\n",
    "\n",
    "**Note**: While we are comparing each kernel individually in this case so we can inspect the results, you could also include the kernel itself as a hyperparameter in GridSearchCV (see below)."
   ]
  },
  {
   "cell_type": "code",
   "execution_count": 16,
   "metadata": {
    "deletable": false,
    "nbgrader": {
     "cell_type": "code",
     "checksum": "9fcb03dfd5cda367c6f75c7c4760e731",
     "grade": false,
     "grade_id": "svm_hyper_search",
     "locked": false,
     "schema_version": 3,
     "solution": true,
     "task": false
    }
   },
   "outputs": [],
   "source": [
    "\"\"\"\n",
    "Input:\n",
    "    params_set: A dictionary of params to use for the grid search\n",
    "    X_train: the training features\n",
    "    y_train: the training labels\n",
    "Output:\n",
    "    The classifier with the best hyperparams, fit to the given training data and labels\n",
    "\"\"\"\n",
    "def best_hyperparams(param_set, X_train, y_train, cv=5):\n",
    "    svc = SVC()\n",
    "    clf = GridSearchCV(estimator=svc, param_grid=param_set, cv=cv)\n",
    "    clf.fit(X_train, y_train)\n",
    "    return clf"
   ]
  },
  {
   "cell_type": "code",
   "execution_count": 17,
   "metadata": {
    "deletable": false,
    "editable": false,
    "nbgrader": {
     "cell_type": "code",
     "checksum": "193a44bcc14e07eb3231b0789b3c5165",
     "grade": false,
     "grade_id": "cell-b9705b7368b2090f",
     "locked": true,
     "schema_version": 3,
     "solution": false,
     "task": false
    }
   },
   "outputs": [],
   "source": [
    "# Here are the value ranges for each of the params.\n",
    "# We will tell you which of these to tune for which kernel.\n",
    "\n",
    "# C is the regularization paramater we've discussed before\n",
    "C = [0.1,0.2,0.5,1,2,3,5,10]\n",
    "\n",
    "# degree is the degree of the polynomial used for the polynomial kernel\n",
    "degree = [1,2,3]\n",
    "\n",
    "# coef is the independent term in the kernel function, and is ony used by poly and sigmoid\n",
    "coef0 = [0.01,0.02,0.1,0.2,1,2]\n",
    "\n",
    "# gamma is the kernel coefficent used for rbf, poly, and sigmoid\n",
    "gamma = [0.01,0.02,0.1,0.2,1,2]"
   ]
  },
  {
   "cell_type": "code",
   "execution_count": 18,
   "metadata": {
    "deletable": false,
    "editable": false,
    "nbgrader": {
     "cell_type": "code",
     "checksum": "e65b42e87eeec2a78dad1c10a9f6b4fe",
     "grade": false,
     "grade_id": "cell-d7f844fba4860a00",
     "locked": true,
     "schema_version": 3,
     "solution": false,
     "task": false
    }
   },
   "outputs": [],
   "source": [
    "from sklearn.metrics import classification_report"
   ]
  },
  {
   "cell_type": "markdown",
   "metadata": {},
   "source": [
    "### Linear Kernel \n",
    "For the **linear** kernel, tune `C`."
   ]
  },
  {
   "cell_type": "code",
   "execution_count": 19,
   "metadata": {
    "deletable": false,
    "editable": false,
    "nbgrader": {
     "cell_type": "code",
     "checksum": "0ef0b9ed549238fc5c03df32539d32b7",
     "grade": true,
     "grade_id": "hyper_linear_kernel",
     "locked": true,
     "points": 2,
     "schema_version": 3,
     "solution": false,
     "task": false
    }
   },
   "outputs": [
    {
     "name": "stdout",
     "output_type": "stream",
     "text": [
      "{'C': 3, 'kernel': 'linear'}\n",
      "CV accuracy for best params: 0.7945652173913043\n"
     ]
    }
   ],
   "source": [
    "params = [{\n",
    "    \"kernel\":[\"linear\"],\n",
    "    \"C\":C\n",
    "}]\n",
    "\n",
    "model = best_hyperparams(params, X_train, y_train)\n",
    "print(model.best_params_)\n",
    "print(f'CV accuracy for best params: {model.best_score_}')\n",
    "\n",
    "\n",
    "assert model.best_params_ == {'C': 3, 'kernel': 'linear'}"
   ]
  },
  {
   "cell_type": "markdown",
   "metadata": {},
   "source": [
    "### Poly Kernel \n",
    "For the **polynomial** kernel, tune `C`, `degree` and `coef0`, where `degree` is the degree of the polynomial and `coef0` is the intercept."
   ]
  },
  {
   "cell_type": "code",
   "execution_count": 20,
   "metadata": {
    "deletable": false,
    "editable": false,
    "nbgrader": {
     "cell_type": "code",
     "checksum": "015388004e61ea015f2b87ba407cf252",
     "grade": true,
     "grade_id": "hyper_poly_kernel",
     "locked": true,
     "points": 2,
     "schema_version": 3,
     "solution": false,
     "task": false
    }
   },
   "outputs": [
    {
     "name": "stdout",
     "output_type": "stream",
     "text": [
      "{'C': 5, 'coef0': 2, 'degree': 2, 'kernel': 'poly'}\n",
      "CV accuracy for best params: 0.8210144927536233\n"
     ]
    }
   ],
   "source": [
    "params = [{\n",
    "    \"kernel\":[\"poly\"],\n",
    "    \"C\":C,\n",
    "    \"degree\":degree,\n",
    "    \"coef0\":coef0\n",
    "}]\n",
    "\n",
    "model = best_hyperparams(params, X_train, y_train)\n",
    "print(model.best_params_)\n",
    "print(f'CV accuracy for best params: {model.best_score_}')\n",
    "\n",
    "assert model.best_params_ == {'C': 5, 'coef0': 2, 'degree': 2, 'kernel': 'poly'}\n"
   ]
  },
  {
   "cell_type": "markdown",
   "metadata": {},
   "source": [
    "### RBF Kernel\n",
    "For the **rbf** kernel, tune `C` and `gamma`."
   ]
  },
  {
   "cell_type": "code",
   "execution_count": 21,
   "metadata": {
    "deletable": false,
    "editable": false,
    "nbgrader": {
     "cell_type": "code",
     "checksum": "c332bc9239acbd197cdb032d2cae162e",
     "grade": true,
     "grade_id": "hyper_rbf_kernel",
     "locked": true,
     "points": 2,
     "schema_version": 3,
     "solution": false,
     "task": false
    }
   },
   "outputs": [
    {
     "name": "stdout",
     "output_type": "stream",
     "text": [
      "{'C': 10, 'gamma': 0.1, 'kernel': 'rbf'}\n",
      "CV accuracy for best params: 0.7865942028985506\n"
     ]
    }
   ],
   "source": [
    "params = [{\n",
    "    \"kernel\":[\"rbf\"],\n",
    "    \"C\":C,\n",
    "    \"gamma\":gamma\n",
    "}]\n",
    "\n",
    "model = best_hyperparams(params, X_train, y_train)\n",
    "print(model.best_params_)\n",
    "print(f'CV accuracy for best params: {model.best_score_}')\n",
    "\n",
    "assert model.best_params_ == {'C': 10, 'gamma': 0.1, 'kernel': 'rbf'}\n"
   ]
  },
  {
   "cell_type": "markdown",
   "metadata": {},
   "source": [
    "### Sigmoid Kernel \n",
    "\n",
    "For the **sigmoid** kernel, tune `C`, `coef0`, and `gamma`."
   ]
  },
  {
   "cell_type": "code",
   "execution_count": 22,
   "metadata": {
    "deletable": false,
    "editable": false,
    "nbgrader": {
     "cell_type": "code",
     "checksum": "84581677264943aa687a240f3b31a5d0",
     "grade": true,
     "grade_id": "hyper_sigmoid_kernel",
     "locked": true,
     "points": 2,
     "schema_version": 3,
     "solution": false,
     "task": false
    }
   },
   "outputs": [
    {
     "name": "stdout",
     "output_type": "stream",
     "text": [
      "{'C': 10, 'coef0': 0.02, 'gamma': 0.01, 'kernel': 'sigmoid'}\n",
      "CV accuracy for best params: 0.6152173913043478\n"
     ]
    }
   ],
   "source": [
    "params = [{\n",
    "    \"kernel\":[\"sigmoid\"],\n",
    "    \"C\":C,\n",
    "    \"coef0\":coef0,\n",
    "    \"gamma\":gamma\n",
    "}]\n",
    "\n",
    "model = best_hyperparams(params, X_train, y_train)\n",
    "print(model.best_params_)\n",
    "print(f'CV accuracy for best params: {model.best_score_}')\n",
    "\n",
    "assert model.best_params_ == {'C': 10, 'coef0': 0.02, 'gamma': 0.01, 'kernel': 'sigmoid'}\n"
   ]
  },
  {
   "cell_type": "markdown",
   "metadata": {},
   "source": [
    "Which kernel performed best, and what does that say about the data?\n",
    "The polynomial kernel performs the best among all the other kernals. This tells us that the data is nonlinear and inseparable data."
   ]
  },
  {
   "cell_type": "markdown",
   "metadata": {},
   "source": [
    "## Use the best Kernel and corresponding hyperparameters\n",
    "\n",
    "Now, to select the best kernel and corresponding other hyperparameters, train a model on the training dataset, and evaluate it on the test dataset. The parameter has been set for your convenience.\n",
    "\n",
    "You should utilize the `best_hyperparams()` function you implemented and [classification_report](https://scikit-learn.org/stable/modules/generated/sklearn.metrics.classification_report.html) function."
   ]
  },
  {
   "cell_type": "code",
   "execution_count": 23,
   "metadata": {
    "deletable": false,
    "nbgrader": {
     "cell_type": "code",
     "checksum": "5620d30907bee9fcfcb2fe666158c8be",
     "grade": false,
     "grade_id": "hyper_full",
     "locked": false,
     "schema_version": 3,
     "solution": true,
     "task": false
    }
   },
   "outputs": [
    {
     "name": "stdout",
     "output_type": "stream",
     "text": [
      "{'C': 3, 'coef0': 0.02, 'degree': 2, 'gamma': 0.1, 'kernel': 'poly'}\n",
      "              precision    recall  f1-score   support\n",
      "\n",
      "           0       0.75      0.83      0.79        18\n",
      "           1       0.84      0.76      0.80        21\n",
      "\n",
      "    accuracy                           0.79        39\n",
      "   macro avg       0.80      0.80      0.79        39\n",
      "weighted avg       0.80      0.79      0.80        39\n",
      "\n"
     ]
    }
   ],
   "source": [
    "params = [{\n",
    "    \"kernel\":[\"linear\", \"poly\", \"rbf\", \"sigmoid\"],\n",
    "    \"C\":[3, 5, 10],\n",
    "    \"coef0\":[0.02, 2],\n",
    "    \"degree\": [2], \n",
    "    \"gamma\":[0.01, 0.1]\n",
    "}]\n",
    "\n",
    "model = predictions = report = None\n",
    "model = best_hyperparams(params, X_train, y_train)\n",
    "predictions = model.predict(X_test)\n",
    "report = classification_report(y_test, predictions)\n",
    "print(model.best_params_)\n",
    "print(report)"
   ]
  },
  {
   "cell_type": "code",
   "execution_count": null,
   "metadata": {
    "deletable": false,
    "editable": false,
    "nbgrader": {
     "cell_type": "code",
     "checksum": "23c3dba4000709cd71aef467eff30183",
     "grade": true,
     "grade_id": "hyper_full_test",
     "locked": true,
     "points": 2,
     "schema_version": 3,
     "solution": false,
     "task": false
    }
   },
   "outputs": [],
   "source": []
  },
  {
   "cell_type": "markdown",
   "metadata": {},
   "source": [
    "**Remember**: Make sure to complete all problems (.ipynb files) in this assignment. When you finish, double-check the submission instructions at the top of this file, and submit on JupyterHub."
   ]
  }
 ],
 "metadata": {
  "kernelspec": {
   "display_name": "Python 3",
   "language": "python",
   "name": "python3"
  },
  "language_info": {
   "codemirror_mode": {
    "name": "ipython",
    "version": 3
   },
   "file_extension": ".py",
   "mimetype": "text/x-python",
   "name": "python",
   "nbconvert_exporter": "python",
   "pygments_lexer": "ipython3",
   "version": "3.7.3"
  }
 },
 "nbformat": 4,
 "nbformat_minor": 4
}
